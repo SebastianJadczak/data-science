{
  "nbformat": 4,
  "nbformat_minor": 0,
  "metadata": {
    "colab": {
      "name": "intro.ipynb",
      "provenance": [],
      "collapsed_sections": [],
      "authorship_tag": "ABX9TyMtNV3Dd6Cpx/VjnEij9j1C",
      "include_colab_link": true
    },
    "kernelspec": {
      "name": "python3",
      "display_name": "Python 3"
    },
    "language_info": {
      "name": "python"
    }
  },
  "cells": [
    {
      "cell_type": "markdown",
      "metadata": {
        "id": "view-in-github",
        "colab_type": "text"
      },
      "source": [
        "<a href=\"https://colab.research.google.com/github/SebastianJadczak/data-science/blob/main/intro.ipynb\" target=\"_parent\"><img src=\"https://colab.research.google.com/assets/colab-badge.svg\" alt=\"Open In Colab\"/></a>"
      ]
    },
    {
      "cell_type": "markdown",
      "metadata": {
        "id": "czIUR8a0yXX1"
      },
      "source": [
        "Wstęp\n"
      ]
    },
    {
      "cell_type": "code",
      "metadata": {
        "colab": {
          "base_uri": "https://localhost:8080/",
          "height": 35
        },
        "id": "ys3igaoQCunC",
        "outputId": "9639268f-a525-40b9-eb6a-07f782721b63"
      },
      "source": [
        "import numpy as np\n",
        "np.__version__"
      ],
      "execution_count": 2,
      "outputs": [
        {
          "output_type": "execute_result",
          "data": {
            "application/vnd.google.colaboratory.intrinsic+json": {
              "type": "string"
            },
            "text/plain": [
              "'1.19.5'"
            ]
          },
          "metadata": {
            "tags": []
          },
          "execution_count": 2
        }
      ]
    },
    {
      "cell_type": "markdown",
      "metadata": {
        "id": "gNGrzjq2zYv2"
      },
      "source": [
        "!D Array\n"
      ]
    },
    {
      "cell_type": "code",
      "metadata": {
        "colab": {
          "base_uri": "https://localhost:8080/"
        },
        "id": "jfomkcIizb0-",
        "outputId": "aef34fe3-720b-498a-af86-30551103b9fe"
      },
      "source": [
        "x = np.array([1,3,5,6])\n",
        "print(x)\n",
        "print(x.size)\n",
        "print(x.dtype)\n",
        "\n",
        "y = np.array([\"Ala ma kota\", \"Kota ma Alę\", \"A sierotka ma Rysia\"])\n",
        "print(y.size)\n",
        "print(y.dtype)"
      ],
      "execution_count": 10,
      "outputs": [
        {
          "output_type": "stream",
          "text": [
            "[1 3 5 6]\n",
            "4\n",
            "int64\n",
            "3\n",
            "<U19\n"
          ],
          "name": "stdout"
        }
      ]
    },
    {
      "cell_type": "markdown",
      "metadata": {
        "id": "UdRsspVQ1P8p"
      },
      "source": [
        "2D Array"
      ]
    },
    {
      "cell_type": "code",
      "metadata": {
        "colab": {
          "base_uri": "https://localhost:8080/"
        },
        "id": "p0uxvx4S1UtP",
        "outputId": "8e6496d5-ea41-4fbf-8d74-f80a0f92d45a"
      },
      "source": [
        "q = np.array([[1,2,3],[1,2,3],[0,0,0]])\n",
        "print(q)\n",
        "print(q[2][2])\n",
        "print(q.ndim)\n",
        "print(q.shape)"
      ],
      "execution_count": 19,
      "outputs": [
        {
          "output_type": "stream",
          "text": [
            "[[1 2 3]\n",
            " [1 2 3]\n",
            " [0 0 0]]\n",
            "0\n",
            "2\n",
            "(3, 3)\n"
          ],
          "name": "stdout"
        }
      ]
    }
  ]
}