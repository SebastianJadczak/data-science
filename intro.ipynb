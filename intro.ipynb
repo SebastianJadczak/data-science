{
  "nbformat": 4,
  "nbformat_minor": 0,
  "metadata": {
    "colab": {
      "name": "intro.ipynb",
      "provenance": [],
      "collapsed_sections": [],
      "authorship_tag": "ABX9TyORpS0hMDjhaJynh3S1KeVR",
      "include_colab_link": true
    },
    "kernelspec": {
      "name": "python3",
      "display_name": "Python 3"
    },
    "language_info": {
      "name": "python"
    }
  },
  "cells": [
    {
      "cell_type": "markdown",
      "metadata": {
        "id": "view-in-github",
        "colab_type": "text"
      },
      "source": [
        "<a href=\"https://colab.research.google.com/github/SebastianJadczak/data-science/blob/main/intro.ipynb\" target=\"_parent\"><img src=\"https://colab.research.google.com/assets/colab-badge.svg\" alt=\"Open In Colab\"/></a>"
      ]
    },
    {
      "cell_type": "markdown",
      "metadata": {
        "id": "czIUR8a0yXX1"
      },
      "source": [
        "Wstęp\n"
      ]
    },
    {
      "cell_type": "code",
      "metadata": {
        "colab": {
          "base_uri": "https://localhost:8080/",
          "height": 35
        },
        "id": "ys3igaoQCunC",
        "outputId": "8581a661-4be4-4d24-dc60-228f3fdfa458"
      },
      "source": [
        "import numpy as np\n",
        "np.__version__"
      ],
      "execution_count": 2,
      "outputs": [
        {
          "output_type": "execute_result",
          "data": {
            "application/vnd.google.colaboratory.intrinsic+json": {
              "type": "string"
            },
            "text/plain": [
              "'1.19.5'"
            ]
          },
          "metadata": {
            "tags": []
          },
          "execution_count": 2
        }
      ]
    },
    {
      "cell_type": "markdown",
      "metadata": {
        "id": "gNGrzjq2zYv2"
      },
      "source": [
        "!D Array\n"
      ]
    },
    {
      "cell_type": "code",
      "metadata": {
        "colab": {
          "base_uri": "https://localhost:8080/"
        },
        "id": "jfomkcIizb0-",
        "outputId": "aef34fe3-720b-498a-af86-30551103b9fe"
      },
      "source": [
        "x = np.array([1,3,5,6])\n",
        "print(x)\n",
        "print(x.size)\n",
        "print(x.dtype)\n",
        "\n",
        "y = np.array([\"Ala ma kota\", \"Kota ma Alę\", \"A sierotka ma Rysia\"])\n",
        "print(y.size)\n",
        "print(y.dtype)"
      ],
      "execution_count": null,
      "outputs": [
        {
          "output_type": "stream",
          "text": [
            "[1 3 5 6]\n",
            "4\n",
            "int64\n",
            "3\n",
            "<U19\n"
          ],
          "name": "stdout"
        }
      ]
    },
    {
      "cell_type": "markdown",
      "metadata": {
        "id": "UdRsspVQ1P8p"
      },
      "source": [
        "2D Array"
      ]
    },
    {
      "cell_type": "code",
      "metadata": {
        "colab": {
          "base_uri": "https://localhost:8080/"
        },
        "id": "p0uxvx4S1UtP",
        "outputId": "8e6496d5-ea41-4fbf-8d74-f80a0f92d45a"
      },
      "source": [
        "q = np.array([[1,2,3],[1,2,3],[0,0,0]])\n",
        "print(q)\n",
        "print(q[2][2])\n",
        "print(q.ndim)\n",
        "print(q.shape)"
      ],
      "execution_count": null,
      "outputs": [
        {
          "output_type": "stream",
          "text": [
            "[[1 2 3]\n",
            " [1 2 3]\n",
            " [0 0 0]]\n",
            "0\n",
            "2\n",
            "(3, 3)\n"
          ],
          "name": "stdout"
        }
      ]
    },
    {
      "cell_type": "code",
      "metadata": {
        "id": "dU2m4hYi6rhV"
      },
      "source": [
        "np.random.seed(0)"
      ],
      "execution_count": 5,
      "outputs": []
    },
    {
      "cell_type": "markdown",
      "metadata": {
        "id": "wKuQlI1U5l6x"
      },
      "source": [
        "Generowanie liczb pseudolosowych"
      ]
    },
    {
      "cell_type": "code",
      "metadata": {
        "colab": {
          "base_uri": "https://localhost:8080/"
        },
        "id": "hXWM2C5l6BDE",
        "outputId": "84ab493b-f0ea-416b-ca6b-284377982732"
      },
      "source": [
        "np.random.randn(10,4)"
      ],
      "execution_count": 6,
      "outputs": [
        {
          "output_type": "execute_result",
          "data": {
            "text/plain": [
              "array([[ 1.76405235,  0.40015721,  0.97873798,  2.2408932 ],\n",
              "       [ 1.86755799, -0.97727788,  0.95008842, -0.15135721],\n",
              "       [-0.10321885,  0.4105985 ,  0.14404357,  1.45427351],\n",
              "       [ 0.76103773,  0.12167502,  0.44386323,  0.33367433],\n",
              "       [ 1.49407907, -0.20515826,  0.3130677 , -0.85409574],\n",
              "       [-2.55298982,  0.6536186 ,  0.8644362 , -0.74216502],\n",
              "       [ 2.26975462, -1.45436567,  0.04575852, -0.18718385],\n",
              "       [ 1.53277921,  1.46935877,  0.15494743,  0.37816252],\n",
              "       [-0.88778575, -1.98079647, -0.34791215,  0.15634897],\n",
              "       [ 1.23029068,  1.20237985, -0.38732682, -0.30230275]])"
            ]
          },
          "metadata": {
            "tags": []
          },
          "execution_count": 6
        }
      ]
    },
    {
      "cell_type": "code",
      "metadata": {
        "colab": {
          "base_uri": "https://localhost:8080/"
        },
        "id": "eR7FeLDr6fgN",
        "outputId": "f9065df0-fdf6-4777-d751-97a1990ec1f6"
      },
      "source": [
        "np.random.rand(10,4)"
      ],
      "execution_count": 7,
      "outputs": [
        {
          "output_type": "execute_result",
          "data": {
            "text/plain": [
              "array([[0.31542835, 0.36371077, 0.57019677, 0.43860151],\n",
              "       [0.98837384, 0.10204481, 0.20887676, 0.16130952],\n",
              "       [0.65310833, 0.2532916 , 0.46631077, 0.24442559],\n",
              "       [0.15896958, 0.11037514, 0.65632959, 0.13818295],\n",
              "       [0.19658236, 0.36872517, 0.82099323, 0.09710128],\n",
              "       [0.83794491, 0.09609841, 0.97645947, 0.4686512 ],\n",
              "       [0.97676109, 0.60484552, 0.73926358, 0.03918779],\n",
              "       [0.28280696, 0.12019656, 0.2961402 , 0.11872772],\n",
              "       [0.31798318, 0.41426299, 0.0641475 , 0.69247212],\n",
              "       [0.56660145, 0.26538949, 0.52324805, 0.09394051]])"
            ]
          },
          "metadata": {
            "tags": []
          },
          "execution_count": 7
        }
      ]
    },
    {
      "cell_type": "code",
      "metadata": {
        "colab": {
          "base_uri": "https://localhost:8080/"
        },
        "id": "6hbvlUJs7EBT",
        "outputId": "b4035fe6-334d-42c3-f501-8f6ea9cd6bf9"
      },
      "source": [
        "np.random.randint(10)"
      ],
      "execution_count": 10,
      "outputs": [
        {
          "output_type": "execute_result",
          "data": {
            "text/plain": [
              "6"
            ]
          },
          "metadata": {
            "tags": []
          },
          "execution_count": 10
        }
      ]
    },
    {
      "cell_type": "code",
      "metadata": {
        "colab": {
          "base_uri": "https://localhost:8080/"
        },
        "id": "DdSPjtWZ7Sxn",
        "outputId": "26c8db55-df99-4fd5-bafe-8968ec0e61c9"
      },
      "source": [
        "np.random.randint(10, 40)"
      ],
      "execution_count": 15,
      "outputs": [
        {
          "output_type": "execute_result",
          "data": {
            "text/plain": [
              "29"
            ]
          },
          "metadata": {
            "tags": []
          },
          "execution_count": 15
        }
      ]
    },
    {
      "cell_type": "code",
      "metadata": {
        "colab": {
          "base_uri": "https://localhost:8080/"
        },
        "id": "zD_rhJv37kSa",
        "outputId": "b3a593b0-608a-4cda-d35d-34fae868d99e"
      },
      "source": [
        "np.random.randint(10, 40, size=20)"
      ],
      "execution_count": 16,
      "outputs": [
        {
          "output_type": "execute_result",
          "data": {
            "text/plain": [
              "array([26, 10, 32, 10, 16, 29, 24, 20, 29, 34, 38, 18, 23, 34, 39, 12, 13,\n",
              "       12, 21, 23])"
            ]
          },
          "metadata": {
            "tags": []
          },
          "execution_count": 16
        }
      ]
    },
    {
      "cell_type": "markdown",
      "metadata": {
        "id": "Cks2Ut6l7vny"
      },
      "source": [
        "Wybór losowego elementu z listy"
      ]
    },
    {
      "cell_type": "code",
      "metadata": {
        "colab": {
          "base_uri": "https://localhost:8080/"
        },
        "id": "KSGthlIj7zhZ",
        "outputId": "1b59def6-56b1-4ea4-d335-519f7d514d7b"
      },
      "source": [
        "np.random.choice([20,10,40,2,3,4,5])"
      ],
      "execution_count": 22,
      "outputs": [
        {
          "output_type": "execute_result",
          "data": {
            "text/plain": [
              "40"
            ]
          },
          "metadata": {
            "tags": []
          },
          "execution_count": 22
        }
      ]
    },
    {
      "cell_type": "code",
      "metadata": {
        "colab": {
          "base_uri": "https://localhost:8080/",
          "height": 35
        },
        "id": "bnC16FGt8Gg5",
        "outputId": "bb320254-8579-4e6f-8387-a24112cb8711"
      },
      "source": [
        "np.random.choice([\"python\", 'java', 'js', 'c++', 'c#'])"
      ],
      "execution_count": 24,
      "outputs": [
        {
          "output_type": "execute_result",
          "data": {
            "application/vnd.google.colaboratory.intrinsic+json": {
              "type": "string"
            },
            "text/plain": [
              "'python'"
            ]
          },
          "metadata": {
            "tags": []
          },
          "execution_count": 24
        }
      ]
    },
    {
      "cell_type": "markdown",
      "metadata": {
        "id": "fcB1vsFr8p2R"
      },
      "source": [
        "Tasowanie elementów w tablicy"
      ]
    },
    {
      "cell_type": "code",
      "metadata": {
        "colab": {
          "base_uri": "https://localhost:8080/"
        },
        "id": "kfaD4oi18tjl",
        "outputId": "7a6805e1-c1b1-48cf-a4eb-b4823bf73d16"
      },
      "source": [
        "data = np.arange(10)\n",
        "print(data)"
      ],
      "execution_count": 26,
      "outputs": [
        {
          "output_type": "stream",
          "text": [
            "[0 1 2 3 4 5 6 7 8 9]\n"
          ],
          "name": "stdout"
        }
      ]
    },
    {
      "cell_type": "code",
      "metadata": {
        "colab": {
          "base_uri": "https://localhost:8080/"
        },
        "id": "-HsPs7uC8-jy",
        "outputId": "25c94aea-a83f-445d-e8b4-96f5ab5c21e7"
      },
      "source": [
        "np.random.shuffle(data)\n",
        "data"
      ],
      "execution_count": 28,
      "outputs": [
        {
          "output_type": "execute_result",
          "data": {
            "text/plain": [
              "array([1, 7, 8, 4, 2, 0, 9, 6, 3, 5])"
            ]
          },
          "metadata": {
            "tags": []
          },
          "execution_count": 28
        }
      ]
    }
  ]
}